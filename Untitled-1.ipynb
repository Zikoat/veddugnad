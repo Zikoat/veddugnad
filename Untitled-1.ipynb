{
 "cells": [
  {
   "cell_type": "code",
   "execution_count": 12,
   "metadata": {},
   "outputs": [],
   "source": [
    "# Since the code execution state has been reset, we need to re-establish the database connection and re-import required modules\n",
    "\n",
    "# Reconnect to the SQLite database\n",
    "import sqlite3\n",
    "from datetime import datetime, timedelta\n",
    "\n",
    "# Reconnect to the database\n",
    "conn = sqlite3.connect('./highscores_backup.db')\n",
    "cursor = conn.cursor()\n"
   ]
  },
  {
   "cell_type": "code",
   "execution_count": 13,
   "metadata": {},
   "outputs": [
    {
     "name": "stdout",
     "output_type": "stream",
     "text": [
      "(2, '2023-11-23 18:56:54.229105', '2023-11-23 18:56:58.437997')\n"
     ]
    }
   ],
   "source": [
    "# Define player_id and date for the data extraction\n",
    "player_id = \"5\"\n",
    "date = '2024-01-09'\n",
    "\n",
    "# Query for total amount of presses (sekker), start, and stop times\n",
    "cursor.execute(\"\"\"\n",
    "SELECT ds.score as sekker, ds.startedAt as start, ds.stoppedAt as slutt\n",
    "FROM daily_scores ds\n",
    "WHERE ds.player_id = ?\n",
    "\"\"\", (player_id))\n",
    "            #    AND ds.date = ?\n",
    "presses_start_stop = cursor.fetchone()\n",
    "print(presses_start_stop)\n",
    "# Query for total break time in the given period\n",
    "cursor.execute(\"\"\"\n",
    "SELECT COALESCE(SUM(julianday(b.end_time) - julianday(b.start_time)), 0) AS break_time_total\n",
    "FROM breaks b\n",
    "WHERE b.start_time BETWEEN ? AND ? || ' 23:59:59'\n",
    "AND b.end_time BETWEEN ? AND ? || ' 23:59:59'\n",
    "\"\"\", (date, date, date, date))\n",
    "break_time_total = cursor.fetchone()[0]\n",
    "\n",
    "# Calculate 'tid med pause' and 'tid uten pause' (time with and without breaks)\n"
   ]
  },
  {
   "cell_type": "code",
   "execution_count": 16,
   "metadata": {},
   "outputs": [
    {
     "name": "stdout",
     "output_type": "stream",
     "text": [
      "None\n"
     ]
    }
   ],
   "source": [
    "print(presses_start_stop)"
   ]
  },
  {
   "cell_type": "code",
   "execution_count": 8,
   "metadata": {},
   "outputs": [
    {
     "ename": "TypeError",
     "evalue": "'NoneType' object is not subscriptable",
     "output_type": "error",
     "traceback": [
      "\u001b[1;31m---------------------------------------------------------------------------\u001b[0m",
      "\u001b[1;31mTypeError\u001b[0m                                 Traceback (most recent call last)",
      "Cell \u001b[1;32mIn[8], line 6\u001b[0m\n\u001b[0;32m      3\u001b[0m     \u001b[38;5;28;01mreturn\u001b[39;00m datetime\u001b[38;5;241m.\u001b[39mstrptime(time_str, \u001b[38;5;124m'\u001b[39m\u001b[38;5;124m%\u001b[39m\u001b[38;5;124mY-\u001b[39m\u001b[38;5;124m%\u001b[39m\u001b[38;5;124mm-\u001b[39m\u001b[38;5;132;01m%d\u001b[39;00m\u001b[38;5;124m \u001b[39m\u001b[38;5;124m%\u001b[39m\u001b[38;5;124mH:\u001b[39m\u001b[38;5;124m%\u001b[39m\u001b[38;5;124mM:\u001b[39m\u001b[38;5;124m%\u001b[39m\u001b[38;5;124mS\u001b[39m\u001b[38;5;124m'\u001b[39m)\n\u001b[0;32m      5\u001b[0m \u001b[38;5;66;03m# Calculate the difference between start and end times\u001b[39;00m\n\u001b[1;32m----> 6\u001b[0m start_datetime \u001b[38;5;241m=\u001b[39m str_to_datetime(\u001b[43mpresses_start_stop\u001b[49m\u001b[43m[\u001b[49m\u001b[38;5;241;43m1\u001b[39;49m\u001b[43m]\u001b[49m)\n\u001b[0;32m      7\u001b[0m stop_datetime \u001b[38;5;241m=\u001b[39m str_to_datetime(presses_start_stop[\u001b[38;5;241m2\u001b[39m])\n\u001b[0;32m      8\u001b[0m tid_med_pause \u001b[38;5;241m=\u001b[39m stop_datetime \u001b[38;5;241m-\u001b[39m start_datetime\n",
      "\u001b[1;31mTypeError\u001b[0m: 'NoneType' object is not subscriptable"
     ]
    }
   ],
   "source": [
    "\n",
    "# Helper function to convert string to datetime\n",
    "def str_to_datetime(time_str):\n",
    "    return datetime.strptime(time_str, '%Y-%m-%d %H:%M:%S')\n",
    "\n",
    "# Calculate the difference between start and end times\n",
    "start_datetime = str_to_datetime(presses_start_stop[1])\n",
    "stop_datetime = str_to_datetime(presses_start_stop[2])\n",
    "tid_med_pause = stop_datetime - start_datetime\n",
    "\n",
    "# Convert break time from days to timedelta\n",
    "break_time_timedelta = timedelta(days=break_time_total)\n",
    "\n",
    "# Calculate 'tid uten pause' (time without breaks)\n",
    "tid_uten_pause = tid_med_pause - break_time_timedelta\n",
    "\n",
    "# Calculate 'tid per sekk' (score per hour)\n",
    "# We assume score_per_hour is the 'sekker' divided by 'tid uten pause' in hours\n",
    "tid_per_sekk = presses_start_stop[0] / (tid_uten_pause.total_seconds() / 3600) if tid_uten_pause.total_seconds() > 0 else 0\n",
    "\n",
    "# Prepare the result\n",
    "result = {\n",
    "    'day': date,\n",
    "    'player_id': player_id,\n",
    "    'sekker': presses_start_stop[0],\n",
    "    'start': presses_start_stop[1],\n",
    "    'slutt': presses_start_stop[2],\n",
    "    'break_time': str(break_time_timedelta),\n",
    "    'tid_med_pause': str(tid_med_pause),\n",
    "    'tid_uten_pause': str(tid_uten_pause),\n",
    "    'tid_per_sekk': tid_per_sekk\n",
    "}\n",
    "\n",
    "result\n"
   ]
  }
 ],
 "metadata": {
  "kernelspec": {
   "display_name": "venv",
   "language": "python",
   "name": "python3"
  },
  "language_info": {
   "codemirror_mode": {
    "name": "ipython",
    "version": 3
   },
   "file_extension": ".py",
   "mimetype": "text/x-python",
   "name": "python",
   "nbconvert_exporter": "python",
   "pygments_lexer": "ipython3",
   "version": "3.10.2"
  }
 },
 "nbformat": 4,
 "nbformat_minor": 2
}
