{
 "cells": [
  {
   "cell_type": "code",
   "execution_count": 1,
   "metadata": {},
   "outputs": [],
   "source": [
    "# Since the code execution state has been reset, we need to re-establish the database connection and re-import required modules\n",
    "\n",
    "# Reconnect to the SQLite database\n",
    "import sqlite3\n",
    "from datetime import datetime, timedelta\n",
    "\n",
    "# Reconnect to the database\n",
    "conn = sqlite3.connect('./highscores_backup.db')\n",
    "cursor = conn.cursor()\n"
   ]
  },
  {
   "cell_type": "code",
   "execution_count": 36,
   "metadata": {},
   "outputs": [
    {
     "name": "stdout",
     "output_type": "stream",
     "text": [
      "(17, '2024-01-09 17:50:24.427128', '2024-01-09 21:00:20.726168')\n",
      "{'day': '2024-01-09', 'player_id': '5', 'presses': 17, 'tid_med_pause': 3.165638622222222, 'break_time': 0.24339638638888889, 'tid_uten_pause': 2.9222422358333335, 'tid_per_sekk': 5.8174506519484765}\n"
     ]
    }
   ],
   "source": [
    "# Define player_id and date for the data extraction\n",
    "player_id = \"5\"\n",
    "date = '2024-01-09'\n",
    "\n",
    "# Query for total amount of presses (sekker), start, and stop times\n",
    "cursor.execute(\"\"\"\n",
    "SELECT ds.score as sekker, ds.startedAt as start, ds.stoppedAt as slutt\n",
    "FROM daily_scores ds\n",
    "WHERE ds.player_id = ?   AND ds.date = ?\n",
    "\"\"\", (player_id,date))\n",
    "presses_start_stop = cursor.fetchone()\n",
    "# Query for total break time in the given period\n",
    "cursor.execute(\"\"\"\n",
    "SELECT COALESCE(SUM(julianday(b.end_time) - julianday(b.start_time)), 0) AS break_time_total\n",
    "FROM breaks b\n",
    "WHERE b.start_time BETWEEN ? AND ? || ' 23:59:59'\n",
    "AND b.end_time BETWEEN ? AND ? || ' 23:59:59'\n",
    "\"\"\", (date, date, date, date))\n",
    "break_time_total = cursor.fetchone()[0]\n",
    "\n",
    "# Calculate 'tid med pause' and 'tid uten pause' (time with and without breaks)\n",
    "from datetime import datetime\n",
    "\n",
    "# Adjusted helper function to convert string to datetime including microseconds\n",
    "def str_to_datetime(time_str):\n",
    "    return datetime.strptime(time_str, '%Y-%m-%d %H:%M:%S.%f')\n",
    "\n",
    "start_datetime = str_to_datetime(presses_start_stop[1])\n",
    "stop_datetime = str_to_datetime(presses_start_stop[2])\n",
    "tid_med_pause = stop_datetime - start_datetime\n",
    "break_time_timedelta = timedelta(days=break_time_total)\n",
    "tid_uten_pause = tid_med_pause - break_time_timedelta\n",
    "presses_count = int(presses_start_stop[0])\n",
    "tid_per_sekk = presses_count / (tid_uten_pause.total_seconds() / 3600) if tid_uten_pause.total_seconds() > 0 else 0\n",
    "result = {\n",
    "    'day': date,\n",
    "    'player_id': player_id,\n",
    "    'presses': presses_count,\n",
    "    'tid_med_pause': tid_med_pause.total_seconds() / 3600,\n",
    "    'break_time': break_time_timedelta.total_seconds() / 3600,\n",
    "    'tid_uten_pause': tid_uten_pause.total_seconds() / 3600,\n",
    "    'tid_per_sekk': tid_per_sekk\n",
    "}\n",
    "print(result)\n"
   ]
  }
 ],
 "metadata": {
  "kernelspec": {
   "display_name": "venv",
   "language": "python",
   "name": "python3"
  },
  "language_info": {
   "codemirror_mode": {
    "name": "ipython",
    "version": 3
   },
   "file_extension": ".py",
   "mimetype": "text/x-python",
   "name": "python",
   "nbconvert_exporter": "python",
   "pygments_lexer": "ipython3",
   "version": "3.10.2"
  }
 },
 "nbformat": 4,
 "nbformat_minor": 2
}
