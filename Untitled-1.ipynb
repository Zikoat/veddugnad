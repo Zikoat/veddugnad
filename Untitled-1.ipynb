{
 "cells": [
  {
   "cell_type": "code",
   "execution_count": 1,
   "metadata": {},
   "outputs": [],
   "source": []
  },
  {
   "cell_type": "code",
   "execution_count": 52,
   "metadata": {},
   "outputs": [
    {
     "ename": "ValueError",
     "evalue": "time data 'Jonas Bratlie' does not match format '%Y-%m-%d %H:%M:%S.%f'",
     "output_type": "error",
     "traceback": [
      "\u001b[1;31m---------------------------------------------------------------------------\u001b[0m",
      "\u001b[1;31mValueError\u001b[0m                                Traceback (most recent call last)",
      "Cell \u001b[1;32mIn[52], line 41\u001b[0m\n\u001b[0;32m     38\u001b[0m \u001b[38;5;28;01mdef\u001b[39;00m \u001b[38;5;21mstr_to_datetime\u001b[39m(time_str):\n\u001b[0;32m     39\u001b[0m     \u001b[38;5;28;01mreturn\u001b[39;00m datetime\u001b[38;5;241m.\u001b[39mstrptime(time_str, \u001b[38;5;124m'\u001b[39m\u001b[38;5;124m%\u001b[39m\u001b[38;5;124mY-\u001b[39m\u001b[38;5;124m%\u001b[39m\u001b[38;5;124mm-\u001b[39m\u001b[38;5;132;01m%d\u001b[39;00m\u001b[38;5;124m \u001b[39m\u001b[38;5;124m%\u001b[39m\u001b[38;5;124mH:\u001b[39m\u001b[38;5;124m%\u001b[39m\u001b[38;5;124mM:\u001b[39m\u001b[38;5;124m%\u001b[39m\u001b[38;5;124mS.\u001b[39m\u001b[38;5;132;01m%f\u001b[39;00m\u001b[38;5;124m'\u001b[39m)\n\u001b[1;32m---> 41\u001b[0m start_datetime \u001b[38;5;241m=\u001b[39m \u001b[43mstr_to_datetime\u001b[49m\u001b[43m(\u001b[49m\u001b[43mpresses_start_stop\u001b[49m\u001b[43m[\u001b[49m\u001b[38;5;241;43m1\u001b[39;49m\u001b[43m]\u001b[49m\u001b[43m)\u001b[49m\n\u001b[0;32m     42\u001b[0m stop_datetime \u001b[38;5;241m=\u001b[39m str_to_datetime(presses_start_stop[\u001b[38;5;241m2\u001b[39m])\n\u001b[0;32m     43\u001b[0m tid_med_pause \u001b[38;5;241m=\u001b[39m stop_datetime \u001b[38;5;241m-\u001b[39m start_datetime\n",
      "Cell \u001b[1;32mIn[52], line 39\u001b[0m, in \u001b[0;36mstr_to_datetime\u001b[1;34m(time_str)\u001b[0m\n\u001b[0;32m     38\u001b[0m \u001b[38;5;28;01mdef\u001b[39;00m \u001b[38;5;21mstr_to_datetime\u001b[39m(time_str):\n\u001b[1;32m---> 39\u001b[0m     \u001b[38;5;28;01mreturn\u001b[39;00m \u001b[43mdatetime\u001b[49m\u001b[38;5;241;43m.\u001b[39;49m\u001b[43mstrptime\u001b[49m\u001b[43m(\u001b[49m\u001b[43mtime_str\u001b[49m\u001b[43m,\u001b[49m\u001b[43m \u001b[49m\u001b[38;5;124;43m'\u001b[39;49m\u001b[38;5;124;43m%\u001b[39;49m\u001b[38;5;124;43mY-\u001b[39;49m\u001b[38;5;124;43m%\u001b[39;49m\u001b[38;5;124;43mm-\u001b[39;49m\u001b[38;5;132;43;01m%d\u001b[39;49;00m\u001b[38;5;124;43m \u001b[39;49m\u001b[38;5;124;43m%\u001b[39;49m\u001b[38;5;124;43mH:\u001b[39;49m\u001b[38;5;124;43m%\u001b[39;49m\u001b[38;5;124;43mM:\u001b[39;49m\u001b[38;5;124;43m%\u001b[39;49m\u001b[38;5;124;43mS.\u001b[39;49m\u001b[38;5;132;43;01m%f\u001b[39;49;00m\u001b[38;5;124;43m'\u001b[39;49m\u001b[43m)\u001b[49m\n",
      "File \u001b[1;32mC:\\Python310\\lib\\_strptime.py:568\u001b[0m, in \u001b[0;36m_strptime_datetime\u001b[1;34m(cls, data_string, format)\u001b[0m\n\u001b[0;32m    565\u001b[0m \u001b[38;5;28;01mdef\u001b[39;00m \u001b[38;5;21m_strptime_datetime\u001b[39m(\u001b[38;5;28mcls\u001b[39m, data_string, \u001b[38;5;28mformat\u001b[39m\u001b[38;5;241m=\u001b[39m\u001b[38;5;124m\"\u001b[39m\u001b[38;5;132;01m%a\u001b[39;00m\u001b[38;5;124m \u001b[39m\u001b[38;5;124m%\u001b[39m\u001b[38;5;124mb \u001b[39m\u001b[38;5;132;01m%d\u001b[39;00m\u001b[38;5;124m \u001b[39m\u001b[38;5;124m%\u001b[39m\u001b[38;5;124mH:\u001b[39m\u001b[38;5;124m%\u001b[39m\u001b[38;5;124mM:\u001b[39m\u001b[38;5;124m%\u001b[39m\u001b[38;5;124mS \u001b[39m\u001b[38;5;124m%\u001b[39m\u001b[38;5;124mY\u001b[39m\u001b[38;5;124m\"\u001b[39m):\n\u001b[0;32m    566\u001b[0m \u001b[38;5;250m    \u001b[39m\u001b[38;5;124;03m\"\"\"Return a class cls instance based on the input string and the\u001b[39;00m\n\u001b[0;32m    567\u001b[0m \u001b[38;5;124;03m    format string.\"\"\"\u001b[39;00m\n\u001b[1;32m--> 568\u001b[0m     tt, fraction, gmtoff_fraction \u001b[38;5;241m=\u001b[39m \u001b[43m_strptime\u001b[49m\u001b[43m(\u001b[49m\u001b[43mdata_string\u001b[49m\u001b[43m,\u001b[49m\u001b[43m \u001b[49m\u001b[38;5;28;43mformat\u001b[39;49m\u001b[43m)\u001b[49m\n\u001b[0;32m    569\u001b[0m     tzname, gmtoff \u001b[38;5;241m=\u001b[39m tt[\u001b[38;5;241m-\u001b[39m\u001b[38;5;241m2\u001b[39m:]\n\u001b[0;32m    570\u001b[0m     args \u001b[38;5;241m=\u001b[39m tt[:\u001b[38;5;241m6\u001b[39m] \u001b[38;5;241m+\u001b[39m (fraction,)\n",
      "File \u001b[1;32mC:\\Python310\\lib\\_strptime.py:349\u001b[0m, in \u001b[0;36m_strptime\u001b[1;34m(data_string, format)\u001b[0m\n\u001b[0;32m    347\u001b[0m found \u001b[38;5;241m=\u001b[39m format_regex\u001b[38;5;241m.\u001b[39mmatch(data_string)\n\u001b[0;32m    348\u001b[0m \u001b[38;5;28;01mif\u001b[39;00m \u001b[38;5;129;01mnot\u001b[39;00m found:\n\u001b[1;32m--> 349\u001b[0m     \u001b[38;5;28;01mraise\u001b[39;00m \u001b[38;5;167;01mValueError\u001b[39;00m(\u001b[38;5;124m\"\u001b[39m\u001b[38;5;124mtime data \u001b[39m\u001b[38;5;132;01m%r\u001b[39;00m\u001b[38;5;124m does not match format \u001b[39m\u001b[38;5;132;01m%r\u001b[39;00m\u001b[38;5;124m\"\u001b[39m \u001b[38;5;241m%\u001b[39m\n\u001b[0;32m    350\u001b[0m                      (data_string, \u001b[38;5;28mformat\u001b[39m))\n\u001b[0;32m    351\u001b[0m \u001b[38;5;28;01mif\u001b[39;00m \u001b[38;5;28mlen\u001b[39m(data_string) \u001b[38;5;241m!=\u001b[39m found\u001b[38;5;241m.\u001b[39mend():\n\u001b[0;32m    352\u001b[0m     \u001b[38;5;28;01mraise\u001b[39;00m \u001b[38;5;167;01mValueError\u001b[39;00m(\u001b[38;5;124m\"\u001b[39m\u001b[38;5;124munconverted data remains: \u001b[39m\u001b[38;5;132;01m%s\u001b[39;00m\u001b[38;5;124m\"\u001b[39m \u001b[38;5;241m%\u001b[39m\n\u001b[0;32m    353\u001b[0m                       data_string[found\u001b[38;5;241m.\u001b[39mend():])\n",
      "\u001b[1;31mValueError\u001b[0m: time data 'Jonas Bratlie' does not match format '%Y-%m-%d %H:%M:%S.%f'"
     ]
    }
   ],
   "source": [
    "import sqlite3\n",
    "from datetime import datetime, timedelta\n",
    "import pandas as pd\n",
    "\n",
    "\n",
    "conn = sqlite3.connect('./highscores_backup.db')\n",
    "cursor = conn.cursor()\n",
    "\n",
    "player_id = \"5\"\n",
    "date = '2024-01-09'\n",
    "\n",
    "cursor.execute(\"\"\"\n",
    "SELECT ds.score as sekker, ds.startedAt as start, ds.stoppedAt as slutt\n",
    "FROM daily_scores ds\n",
    "WHERE ds.player_id = ?   AND ds.date = ?\n",
    "\"\"\", (player_id,date))\n",
    "presses_start_stop = cursor.fetchone()\n",
    "\n",
    "cursor.execute(\"\"\"\n",
    "SELECT COALESCE(SUM(julianday(b.end_time) - julianday(b.start_time)), 0) AS break_time_total\n",
    "FROM breaks b\n",
    "WHERE b.start_time BETWEEN ? AND ? || ' 23:59:59'\n",
    "AND b.end_time BETWEEN ? AND ? || ' 23:59:59'\n",
    "\"\"\", (date, date, date, date))\n",
    "break_time_total = cursor.fetchone()[0]\n",
    "\n",
    "def str_to_datetime(time_str):\n",
    "    return datetime.strptime(time_str, '%Y-%m-%d %H:%M:%S.%f')\n",
    "\n",
    "start_datetime = str_to_datetime(presses_start_stop[1])\n",
    "stop_datetime = str_to_datetime(presses_start_stop[2])\n",
    "tid_med_pause = stop_datetime - start_datetime\n",
    "break_time_timedelta = timedelta(days=break_time_total)\n",
    "tid_uten_pause = tid_med_pause - break_time_timedelta\n",
    "presses_count = int(presses_start_stop[0])\n",
    "tid_per_sekk = tid_uten_pause.total_seconds() / 86400 / presses_count if presses_count > 0 else 0\n",
    "result = {\n",
    "    'day': date,\n",
    "    'player_id': player_id,\n",
    "    'presses': presses_count,\n",
    "    \"start\" : presses_start_stop[1],\n",
    "    \"slutt\" : presses_start_stop[2],\n",
    "    'tid_med_pause': tid_med_pause.total_seconds() / 3600 / 24,  \n",
    "    'break_time': break_time_timedelta.total_seconds() / 3600 / 24,\n",
    "    'tid_uten_pause': tid_uten_pause.total_seconds() / 3600 / 24,  \n",
    "    'tid_per_sekk': tid_per_sekk\n",
    "}\n",
    "print(result)\n",
    "\n",
    "df = pd.DataFrame([result])\n",
    "\n",
    "filename = \"result.xlsx\"\n",
    "\n",
    "df.to_excel(filename, index=False)\n",
    "\n",
    "print(f\"Data has been written to {filename}\")\n"
   ]
  }
 ],
 "metadata": {
  "kernelspec": {
   "display_name": "venv",
   "language": "python",
   "name": "python3"
  },
  "language_info": {
   "codemirror_mode": {
    "name": "ipython",
    "version": 3
   },
   "file_extension": ".py",
   "mimetype": "text/x-python",
   "name": "python",
   "nbconvert_exporter": "python",
   "pygments_lexer": "ipython3",
   "version": "3.10.2"
  }
 },
 "nbformat": 4,
 "nbformat_minor": 2
}
