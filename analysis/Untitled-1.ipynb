{
 "cells": [
  {
   "cell_type": "code",
   "execution_count": 7,
   "metadata": {},
   "outputs": [
    {
     "name": "stdout",
     "output_type": "stream",
     "text": [
      "Requirement already satisfied: pandas in c:\\users\\sscho\\appdata\\local\\packages\\pythonsoftwarefoundation.python.3.11_qbz5n2kfra8p0\\localcache\\local-packages\\python311\\site-packages (2.2.3)\n",
      "Collecting openpyxl\n",
      "  Downloading openpyxl-3.1.5-py2.py3-none-any.whl.metadata (2.5 kB)\n",
      "Requirement already satisfied: numpy>=1.23.2 in c:\\users\\sscho\\appdata\\local\\packages\\pythonsoftwarefoundation.python.3.11_qbz5n2kfra8p0\\localcache\\local-packages\\python311\\site-packages (from pandas) (2.1.1)\n",
      "Requirement already satisfied: python-dateutil>=2.8.2 in c:\\users\\sscho\\appdata\\local\\packages\\pythonsoftwarefoundation.python.3.11_qbz5n2kfra8p0\\localcache\\local-packages\\python311\\site-packages (from pandas) (2.9.0.post0)\n",
      "Requirement already satisfied: pytz>=2020.1 in c:\\users\\sscho\\appdata\\local\\packages\\pythonsoftwarefoundation.python.3.11_qbz5n2kfra8p0\\localcache\\local-packages\\python311\\site-packages (from pandas) (2024.2)\n",
      "Requirement already satisfied: tzdata>=2022.7 in c:\\users\\sscho\\appdata\\local\\packages\\pythonsoftwarefoundation.python.3.11_qbz5n2kfra8p0\\localcache\\local-packages\\python311\\site-packages (from pandas) (2024.2)\n",
      "Collecting et-xmlfile (from openpyxl)\n",
      "  Using cached et_xmlfile-1.1.0-py3-none-any.whl.metadata (1.8 kB)\n",
      "Requirement already satisfied: six>=1.5 in c:\\users\\sscho\\appdata\\local\\packages\\pythonsoftwarefoundation.python.3.11_qbz5n2kfra8p0\\localcache\\local-packages\\python311\\site-packages (from python-dateutil>=2.8.2->pandas) (1.16.0)\n",
      "Downloading openpyxl-3.1.5-py2.py3-none-any.whl (250 kB)\n",
      "   ---------------------------------------- 0.0/250.9 kB ? eta -:--:--\n",
      "   - -------------------------------------- 10.2/250.9 kB ? eta -:--:--\n",
      "   ------ -------------------------------- 41.0/250.9 kB 653.6 kB/s eta 0:00:01\n",
      "   ---------------------------------------- 250.9/250.9 kB 2.6 MB/s eta 0:00:00\n",
      "Using cached et_xmlfile-1.1.0-py3-none-any.whl (4.7 kB)\n",
      "Installing collected packages: et-xmlfile, openpyxl\n",
      "Successfully installed et-xmlfile-1.1.0 openpyxl-3.1.5\n"
     ]
    },
    {
     "name": "stderr",
     "output_type": "stream",
     "text": [
      "\n",
      "[notice] A new release of pip is available: 24.0 -> 24.2\n",
      "[notice] To update, run: C:\\Users\\sscho\\AppData\\Local\\Microsoft\\WindowsApps\\PythonSoftwareFoundation.Python.3.11_qbz5n2kfra8p0\\python.exe -m pip install --upgrade pip\n"
     ]
    }
   ],
   "source": [
    "!pip install pandas openpyxl"
   ]
  },
  {
   "cell_type": "code",
   "execution_count": 13,
   "metadata": {},
   "outputs": [
    {
     "name": "stdout",
     "output_type": "stream",
     "text": [
      "Data has been written to result.xlsx\n"
     ]
    }
   ],
   "source": [
    "import sqlite3\n",
    "from datetime import datetime, timedelta\n",
    "import pandas as pd\n",
    "\n",
    "# Connect to the SQLite database\n",
    "conn = sqlite3.connect('../highscores_backup.db')\n",
    "cursor = conn.cursor()\n",
    "\n",
    "# Function to convert string to datetime with None handling\n",
    "def str_to_datetime(time_str):\n",
    "    if time_str is None:\n",
    "        return None\n",
    "    return datetime.strptime(time_str, '%Y-%m-%d %H:%M:%S.%f')\n",
    "\n",
    "# Query to get the daily scores and player information for all players and all days\n",
    "cursor.execute(\"\"\"\n",
    "SELECT\n",
    "    ds.score as sekker,\n",
    "    ds.startedAt as start,\n",
    "    ds.stoppedAt as slutt,\n",
    "    ds.player_id,\n",
    "    p.name,\n",
    "    p.team,\n",
    "    ds.date,\n",
    "    CASE\n",
    "        WHEN p.name LIKE '%(O18)' THEN 1\n",
    "        ELSE 0\n",
    "    END as is_over_18\n",
    "FROM daily_scores ds\n",
    "JOIN player p ON ds.player_id = p.id\n",
    "\"\"\")\n",
    "daily_scores = cursor.fetchall()\n",
    "\n",
    "# Initialize an empty list to store results\n",
    "all_results = []\n",
    "\n",
    "# Process each score record\n",
    "for score in daily_scores:\n",
    "    presses_count = int(score[0])\n",
    "    start_datetime = str_to_datetime(score[1])\n",
    "    stop_datetime = str_to_datetime(score[2])\n",
    "    player_id = score[3]\n",
    "    name = score[4]\n",
    "    team = score[5]\n",
    "    date = score[6]\n",
    "    is_over_18 = score[7]\n",
    "\n",
    "    # Handle cases where start_datetime or stop_datetime is None\n",
    "    if start_datetime is None or stop_datetime is None:\n",
    "        tid_med_pause = None\n",
    "        tid_uten_pause = None\n",
    "        tid_per_sekk = None\n",
    "    else:\n",
    "        tid_med_pause = stop_datetime - start_datetime\n",
    "        \n",
    "        # Query to get the total break time for the day\n",
    "        cursor.execute(\"\"\"\n",
    "        SELECT COALESCE(SUM(julianday(b.end_time) - julianday(b.start_time)), 0) AS break_time_total\n",
    "        FROM breaks b\n",
    "        WHERE b.start_time BETWEEN ? AND ? || ' 23:59:59'\n",
    "        AND b.end_time BETWEEN ? AND ? || ' 23:59:59'\n",
    "        \"\"\", (date, date, date, date))\n",
    "        break_time_total = cursor.fetchone()[0]\n",
    "\n",
    "        break_time_timedelta = timedelta(days=break_time_total)\n",
    "        tid_uten_pause = tid_med_pause - break_time_timedelta\n",
    "        tid_per_sekk = tid_uten_pause.total_seconds() / 86400 / presses_count if presses_count > 0 else None\n",
    "\n",
    "    # Create a result dictionary, storing None values where applicable\n",
    "    result = {\n",
    "        'dag': date,\n",
    "        'player_id': player_id,\n",
    "        \"navn\": name,\n",
    "        \"team\": team,\n",
    "        \"o18\": is_over_18,\n",
    "        'sekker': presses_count,\n",
    "        \"start\": score[1],\n",
    "        \"slutt\": score[2],\n",
    "        'tid_med_pause': tid_med_pause.total_seconds() / 3600 / 24 if tid_med_pause else None,  # in days\n",
    "        'pause': break_time_timedelta.total_seconds() / 3600 / 24 if start_datetime and stop_datetime else None,  # in days\n",
    "        'tid_uten_pause': tid_uten_pause.total_seconds() / 3600 / 24 if tid_uten_pause else None,  # in days\n",
    "        'tid_per_sekk': tid_per_sekk,\n",
    "    }\n",
    "\n",
    "    # Append the result to the list\n",
    "    all_results.append(result)\n",
    "\n",
    "# Convert the list of results into a DataFrame\n",
    "df = pd.DataFrame(all_results)\n",
    "\n",
    "# Save the DataFrame to an Excel file\n",
    "filename = \"result.xlsx\"\n",
    "df.to_excel(filename, index=False)\n",
    "\n",
    "print(f\"Data has been written to {filename}\")\n"
   ]
  }
 ],
 "metadata": {
  "kernelspec": {
   "display_name": "venv",
   "language": "python",
   "name": "python3"
  },
  "language_info": {
   "codemirror_mode": {
    "name": "ipython",
    "version": 3
   },
   "file_extension": ".py",
   "mimetype": "text/x-python",
   "name": "python",
   "nbconvert_exporter": "python",
   "pygments_lexer": "ipython3",
   "version": "3.11.9"
  }
 },
 "nbformat": 4,
 "nbformat_minor": 2
}
